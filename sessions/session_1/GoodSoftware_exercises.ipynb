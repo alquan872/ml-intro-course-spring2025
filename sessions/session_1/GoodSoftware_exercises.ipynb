{
 "cells": [
  {
   "cell_type": "markdown",
   "metadata": {
    "id": "sOpJ1RpEluIJ"
   },
   "source": []
  },
  {
   "cell_type": "markdown",
   "metadata": {
    "id": "trbyQ1fulwCl"
   },
   "source": [
    "## Coding Style"
   ]
  },
  {
   "cell_type": "markdown",
   "metadata": {
    "id": "1j6mgPpS3jOj"
   },
   "source": [
    "**Task:** Refactor the following function to improve readability by using better variable names. This function calculates the mean of a list of numbers."
   ]
  },
  {
   "cell_type": "code",
   "execution_count": 7,
   "metadata": {
    "id": "7O1AlCiO345V"
   },
   "outputs": [],
   "source": [
    "def calc_mean(vals):\n",
    "    s = 0\n",
    "    for v in vals:\n",
    "        s += v\n",
    "    return s / len(vals)"
   ]
  },
  {
   "cell_type": "code",
   "execution_count": 1,
   "metadata": {
    "id": "Zmf8qVfI37Dn"
   },
   "outputs": [
    {
     "data": {
      "text/plain": [
       "2.0"
      ]
     },
     "execution_count": 1,
     "metadata": {},
     "output_type": "execute_result"
    }
   ],
   "source": [
    "#Your solution here...\n",
    "\n",
    "def calculate_mean(values):\n",
    "    start=0\n",
    "    for value in values:\n",
    "        start +=value\n",
    "    return start/len(values)\n",
    "\n",
    "calculate_mean(values = [1, 2, 3])"
   ]
  },
  {
   "cell_type": "code",
   "execution_count": 5,
   "metadata": {
    "id": "O7lr74ps5LAT"
   },
   "outputs": [
    {
     "data": {
      "text/plain": [
       "2.0"
      ]
     },
     "execution_count": 5,
     "metadata": {},
     "output_type": "execute_result"
    }
   ],
   "source": [
    "# Try again, now using the function reduce and len\n",
    "# if values = [1, 2, 3]\n",
    "# len(values) = 3\n",
    "values = [1, 2, 3]\n",
    "\n",
    "from functools import reduce\n",
    "def my_product(values):\n",
    "    multiplication=reduce(lambda x, y: x * y, values)\n",
    "    return multiplication/len(values)\n",
    "\n",
    "\n",
    "my_product(values)"
   ]
  },
  {
   "cell_type": "markdown",
   "metadata": {
    "id": "PiMyTEfW9Py2"
   },
   "source": [
    "You are given a function **process_user_data** that processes user data. The function is well-written with type hints and clean code, but the naming conventions are inconsistent and not descriptive enough. Your task is to refactor the function to improve the naming conventions."
   ]
  },
  {
   "cell_type": "markdown",
   "metadata": {
    "id": "yWv2hYu29atW"
   },
   "source": [
    "**Original function**"
   ]
  },
  {
   "cell_type": "code",
   "execution_count": 6,
   "metadata": {
    "id": "VLT1u9679T9X"
   },
   "outputs": [],
   "source": [
    "from typing import List, Dict\n",
    "\n",
    "def process_user_data(users_data: List[Dict[str, str]]) -> List[Dict[str, str]]:\n",
    "    \"\"\"\n",
    "    Process user data by extracting relevant information.\n",
    "\n",
    "    Args:\n",
    "        user_data (List[Dict[str, str]]): A list of dictionaries containing user data.\n",
    "\n",
    "    Returns:\n",
    "        List[Dict[str, str]]: A list of dictionaries containing processed user data.\n",
    "    \"\"\"\n",
    "    processed_data_users = []\n",
    "\n",
    "    for user in users_data:\n",
    "        customer_name = user.get('customer_name')\n",
    "        client_age = user.get('client_age')\n",
    "        user_email = user.get('user_email')\n",
    "\n",
    "        if customer_name and client_age and user_email:\n",
    "            processed_data_users.append({\n",
    "                'name': customer_name,\n",
    "                'age': client_age,\n",
    "                'email': user_email\n",
    "            })\n",
    "\n",
    "    return processed_data_users"
   ]
  },
  {
   "cell_type": "markdown",
   "metadata": {
    "id": "a4ZD-gIg9xge"
   },
   "source": [
    "## Testing"
   ]
  },
  {
   "cell_type": "markdown",
   "metadata": {
    "id": "qqXEZYIq9zVN"
   },
   "source": [
    "Write a unit test for the **calculate_mean** function from the previous exercise."
   ]
  },
  {
   "cell_type": "code",
   "execution_count": 12,
   "metadata": {
    "id": "gkFNyNRu98Hq"
   },
   "outputs": [],
   "source": [
    "def calculate_mean(values):\n",
    "    total_sum = 0\n",
    "    for value in values:\n",
    "        total_sum += value\n",
    "    return total_sum / len(values)"
   ]
  },
  {
   "cell_type": "code",
   "execution_count": 11,
   "metadata": {
    "colab": {
     "base_uri": "https://localhost:8080/"
    },
    "id": "9GXTNdeP92j9",
    "outputId": "9454d6b1-44ce-4e12-88ed-01bf52073d1a"
   },
   "outputs": [
    {
     "name": "stderr",
     "output_type": "stream",
     "text": [
      ".\n",
      "----------------------------------------------------------------------\n",
      "Ran 1 test in 0.001s\n",
      "\n",
      "OK\n"
     ]
    }
   ],
   "source": [
    "import unittest\n",
    "\n",
    "# class TestCalculateMean(unittest.TestCase):\n",
    "    #def test_calculate_mean(self):\n",
    "        #self.assertEqual\n",
    "\n",
    "\n",
    "class TestCalculateMean(unittest.TestCase):\n",
    "  def test_calculate_mean(self):\n",
    "    self.assertEqual(calculate_mean([1, 2, 3]), 2)\n",
    "\n",
    "\n",
    "\n",
    "\n",
    "if __name__ == '__main__':\n",
    "  unittest.main(argv=['first-arg-is-ignored'], verbosity=1, exit=False)"
   ]
  },
  {
   "cell_type": "markdown",
   "metadata": {
    "id": "9GOMoeTi62JX"
   },
   "source": [
    "## Docstring"
   ]
  },
  {
   "cell_type": "markdown",
   "metadata": {
    "id": "f5n47syC646T"
   },
   "source": [
    "Add a docstring to the **calculate_feature_sum** function.\n",
    "\n",
    "```python\n",
    "def calculate_feature_sum(feature_values):\n",
    "    total_sum = 0\n",
    "    for value in feature_values:\n",
    "        total_sum += value\n",
    "    return total_sum\n",
    "```\n",
    "\n"
   ]
  },
  {
   "cell_type": "code",
   "execution_count": 13,
   "metadata": {
    "id": "ZDGH5xT97GOW"
   },
   "outputs": [],
   "source": [
    "#Add a docstring to the calculate_feature_sum function.\n",
    "\n",
    "def calculate_feature_sum(feature_values):\n",
    "    '''Compute the total sum of a list of numbers.\n",
    "\n",
    "  Args:\n",
    "    feature_values: A list of numbers.\n",
    "\n",
    "  Returns:\n",
    "    The sum of the numbers in the input list.'''\n",
    "    total_sum = 0\n",
    "    for value in feature_values:\n",
    "        total_sum += value\n",
    "    return total_sum"
   ]
  },
  {
   "cell_type": "markdown",
   "metadata": {
    "id": "Peyy36CJ6d1l"
   },
   "source": [
    "Add a docstring to the **LinearRegression** class and its methods.\n",
    "\n",
    "```python\n",
    "class LinearRegression:\n",
    "    def __init__(self, learning_rate, num_iterations):\n",
    "        self.learning_rate = learning_rate\n",
    "        self.num_iterations = num_iterations\n",
    "        self.weights = None\n",
    "        self.bias = None\n",
    "\n",
    "    def fit(self, features, targets):\n",
    "        num_samples, num_features = features.shape\n",
    "        self.weights = np.zeros(num_features)\n",
    "        self.bias = 0\n",
    "        for _ in range(self.num_iterations):\n",
    "            predicted_values = np.dot(features, self.weights) + self.bias\n",
    "            weight_gradient = (1 / num_samples) * np.dot(features.T, (predicted_values - targets))\n",
    "            bias_gradient = (1 / num_samples) * np.sum(predicted_values - targets)\n",
    "            self.weights -= self.learning_rate * weight_gradient\n",
    "            self.bias -= self.learning_rate * bias_gradient\n",
    "\n",
    "```\n",
    "\n"
   ]
  },
  {
   "cell_type": "code",
   "execution_count": 6,
   "metadata": {
    "id": "fh3e4COv6fGF"
   },
   "outputs": [],
   "source": [
    "class LinearRegression():\n",
    "    \"\"\"\n",
    "    Linear Regression model using gradient descent.\n",
    "\n",
    "    This class implements a simple linear regression algorithm from scratch using \n",
    "    gradient descent to optimize weights and bias.\n",
    "\n",
    "    Parameters\n",
    "    ----------\n",
    "    learning_rate : float\n",
    "        The step size for each iteration of gradient descent.\n",
    "    num_iterations : int\n",
    "        The number of iterations to run gradient descent.\n",
    "\n",
    "    Attributes\n",
    "    ----------\n",
    "    learning_rate : float\n",
    "        Learning rate used for gradient descent.\n",
    "    num_iterations : int\n",
    "        Total number of gradient descent iterations.\n",
    "    weights : np.ndarray or None\n",
    "        Weights (coefficients) of the linear model, initialized during training.\n",
    "    bias : float or None\n",
    "        Bias (intercept) of the model, initialized during training.\n",
    "    \"\"\"\n",
    "    def __init__(self, learning_rate, num_iterations):\n",
    "        self.learning_rate = learning_rate\n",
    "        self.num_iterations = num_iterations\n",
    "        self.weights = None\n",
    "        self.bias = None\n",
    "\n",
    "    def fit(self, features, targets):\n",
    "        \"\"\"\n",
    "        Trains the linear regression model using gradient descent.\n",
    "\n",
    "        Parameters\n",
    "        ----------\n",
    "        features : np.ndarray\n",
    "            Feature matrix of shape (n_samples, n_features).\n",
    "        targets : np.ndarray\n",
    "            Target values (true outputs) of shape (n_samples,).\n",
    "        \"\"\"\n",
    "        num_samples, num_features = features.shape\n",
    "        self.weights = np.zeros(num_features)\n",
    "        self.bias = 0\n",
    "        for _ in range(self.num_iterations):\n",
    "            predicted_values = np.dot(features, self.weights) + self.bias\n",
    "            weight_gradient = (1 / num_samples) * np.dot(features.T, (predicted_values - targets))\n",
    "            bias_gradient = (1 / num_samples) * np.sum(predicted_values - targets)\n",
    "            self.weights -= self.learning_rate * weight_gradient\n",
    "            self.bias -= self.learning_rate * bias_gradient"
   ]
  },
  {
   "cell_type": "markdown",
   "metadata": {
    "id": "XGJdHYUO8Flj"
   },
   "source": [
    "## Keep It Simple"
   ]
  },
  {
   "cell_type": "markdown",
   "metadata": {
    "id": "BAltedlh8L7D"
   },
   "source": [
    "You are given a function **process_data** that performs several tasks: loading data, cleaning data, and calculating statistics. Your task is to refactor this function into separate, well-named methods to improve readability and maintainability.\n",
    "\n",
    "**Original function**"
   ]
  },
  {
   "cell_type": "code",
   "execution_count": null,
   "metadata": {
    "id": "KpxgiH5J8JXX"
   },
   "outputs": [],
   "source": [
    "import numpy as np\n",
    "from typing import List, Tuple\n",
    "\n",
    "def process_data(file_path: str) -> Tuple[float, float]:\n",
    "    # Load data from a file\n",
    "    data = np.loadtxt(file_path, delimiter=',')\n",
    "\n",
    "    # Clean data by removing negative values\n",
    "    cleaned_data = [x for x in data if x >= 0]\n",
    "\n",
    "    # Calculate mean and standard deviation\n",
    "    mean_value = np.mean(cleaned_data)\n",
    "    std_dev_value = np.std(cleaned_data)\n",
    "\n",
    "    return mean_value, std_dev_value"
   ]
  },
  {
   "cell_type": "code",
   "execution_count": null,
   "metadata": {
    "id": "rHAZXLtJ8Vwn"
   },
   "outputs": [],
   "source": [
    "#Your solution, also now add docstrings\n",
    "import numpy as np\n",
    "from typing import List, Tuple\n",
    "def process_data(file_path: str) -> Tuple[float, float]:\n",
    "    data = np.loadtxt(file_path, delimiter=',')\n",
    "    cleaned_data = [x for x in data if x >= 0]\n",
    "    return cleaned_data\n",
    "def mean(cleaned_data):\n",
    "    mean_value = np.mean(cleaned_data)\n",
    "    standard_deviation_value = np.std(cleaned_data)\n",
    "    return mean_value, std_dev_value\n",
    "\n",
    "mean(process_data(file_path: str))\n"
   ]
  },
  {
   "cell_type": "code",
   "execution_count": null,
   "metadata": {},
   "outputs": [],
   "source": [
    "import numpy as np\n",
    "from typing import List, Tuple\n",
    "def process_data(file_path: str) -> Tuple[float, float]:\n",
    "    \"\"\"\n",
    "    Load numerical data from a CSV file and filter out negative values.\n",
    "\n",
    "    Args:\n",
    "        file_path (str): The path to the CSV file containing numeric data.\n",
    "\n",
    "    Returns:\n",
    "        List[float]: A list of non-negative float values from the file.\n",
    "    \"\"\"\n",
    "    data = np.loadtxt(file_path, delimiter=',')\n",
    "    cleaned_data = [x for x in data if x >= 0]\n",
    "    return cleaned_data\n",
    "def mean(cleaned_data):\n",
    "     \"\"\"\n",
    "    Compute the mean and standard deviation of a list of numeric values.\n",
    "\n",
    "    Args:\n",
    "        cleaned_data (List[float]): A list of numeric values.\n",
    "\n",
    "    Returns:\n",
    "        Tuple[float, float]: A tuple containing the mean and standard deviation.\n",
    "    \"\"\"\n",
    "    mean_value = np.mean(cleaned_data)\n",
    "    standard_deviation_value = np.std(cleaned_data)\n",
    "    return mean_value, std_dev_value\n",
    "\n",
    "mean(process_data(file_path: str))"
   ]
  },
  {
   "cell_type": "code",
   "execution_count": 10,
   "metadata": {
    "id": "d-OU53Xn8aQY"
   },
   "outputs": [],
   "source": [
    "#Create a class containing the methods, and also include docstrings"
   ]
  },
  {
   "cell_type": "code",
   "execution_count": null,
   "metadata": {},
   "outputs": [],
   "source": [
    "import numpy as np\n",
    "from typing import List, Tuple\n",
    "\n",
    "class DataProcessor:\n",
    "    \"\"\"\n",
    "    A class to process numerical data from a CSV file by cleaning\n",
    "    and calculating basic statistics.\n",
    "\n",
    "    Methods:\n",
    "        load_and_clean(file_path): Loads the data and removes negative values.\n",
    "        compute_stats(data): Calculates mean and standard deviation.\n",
    "    \"\"\"\n",
    "\n",
    "    def load_and_clean(self, file_path: str) -> List[float]:\n",
    "        \"\"\"\n",
    "        Load data from a CSV file and remove negative values.\n",
    "\n",
    "        Args:\n",
    "            file_path (str): Path to the CSV file containing numeric data.\n",
    "\n",
    "        Returns:\n",
    "            List[float]: A list of non-negative float values from the file.\n",
    "        \"\"\"\n",
    "        data = np.loadtxt(file_path, delimiter=',')\n",
    "        cleaned_data = [x for x in data if x >= 0]\n",
    "        return cleaned_data\n",
    "\n",
    "    def compute_stats(self, data: List[float]) -> Tuple[float, float]:\n",
    "        \"\"\"\n",
    "        Compute the mean and standard deviation of a list of numeric values.\n",
    "\n",
    "        Args:\n",
    "            data (List[float]): A list of numeric values.\n",
    "\n",
    "        Returns:\n",
    "            Tuple[float, float]: A tuple containing (mean, standard deviation).\n",
    "        \"\"\"\n",
    "        mean_value = np.mean(data)\n",
    "        std_dev_value = np.std(data)\n",
    "        return mean_value, std_dev_value\n",
    "\n",
    "# Example usage\n",
    "if __name__ == \"__main__\":\n",
    "    processor = DataProcessor()\n",
    "    file_path = \"data.csv\"  # Replace with your CSV file path\n",
    "    cleaned_data = processor.load_and_clean(file_path)\n",
    "    mean_val, std_val = processor.compute_stats(cleaned_data)\n",
    "    print(f\"Mean: {mean_val:.2f}, Standard Deviation: {std_val:.2f}\")\n"
   ]
  },
  {
   "cell_type": "markdown",
   "metadata": {
    "id": "SRwl9wMu_j2W"
   },
   "source": [
    "You are given a function **dog_info** that returns the name and breed of a dog and prints a message where the dog barks and presents himself. Your task is to refactor this function into a class with different methods and implement type hints."
   ]
  },
  {
   "cell_type": "code",
   "execution_count": null,
   "metadata": {
    "id": "HgIWleu4_lzK"
   },
   "outputs": [],
   "source": [
    "def dog_info(name, breed) -> None:\n",
    "    \"\"\"\n",
    "    Print information about a dog.\n",
    "\n",
    "    Args:\n",
    "        name (str): The name of the dog.\n",
    "        breed (str): The breed of the dog.\n",
    "    \"\"\"\n",
    "    print(f\"Name: {name}\")\n",
    "    print(f\"Breed: {breed}\")\n",
    "    print(f\"{name} says: Woof! I am a {breed}.\")"
   ]
  },
  {
   "cell_type": "markdown",
   "metadata": {
    "id": "edxtSJ_l_uQt"
   },
   "source": [
    "**Instructions**\n",
    "\n",
    "Create a class Dog with the following methods:\n",
    "\n",
    "        __init__: Initialize the dog with a name and breed\n",
    "        get_name: Return the name of the dog.\n",
    "        get_breed: Return the breed of the dog.\n",
    "        bark: Print a message where the dog barks.\n",
    "        introduce: Print a message where the dog introduces himself.\n",
    "Implement type hints for all methods.\n",
    "Ensure the class is well-documented with docstrings.\n"
   ]
  },
  {
   "cell_type": "code",
   "execution_count": null,
   "metadata": {
    "id": "MDVl8cT5_sf8"
   },
   "outputs": [],
   "source": [
    "'''\n",
    "class Dog:\n",
    "    \"\"\"\n",
    "    A class to represent a dog.\n",
    "\n",
    "    Attributes:\n",
    "\n",
    "    \"\"\"\n",
    "\n",
    "    def __init__(self, name: str, breed: str) -> None:\n",
    "        \"\"\"\n",
    "        Initialize the dog with a name and breed.\n",
    "\n",
    "        Args:\n",
    "\n",
    "        \"\"\"\n",
    "        self.name = name\n",
    "        self.breed = breed\n",
    "\n",
    "    def get_name(self):\n",
    "        return self.name\n",
    "\n",
    "    def get_breed(self):\n",
    "        return self.breed\n",
    "\n",
    "    def bark(self):\n",
    "        print(f\"{self.name} says: Woof!\")\n",
    "\n",
    "    def introduce(self):\n",
    "        \"\"\"\n",
    "        Print a message where the dog introduces himself.\n",
    "        \"\"\"\n",
    "\n",
    "# Example usage\n",
    "if __name__ == \"__main__\":\n",
    "    my_dog = Dog(name=\"Buddy\", breed=\"Golden Retriever\")\n",
    "    my_dog.introduce()\n",
    "\n",
    "''''"
   ]
  },
  {
   "cell_type": "code",
   "execution_count": null,
   "metadata": {},
   "outputs": [],
   "source": [
    "class Dog:\n",
    "    \"\"\"\n",
    "    A class to represent a dog.\n",
    "\n",
    "    Attributes:\n",
    "        name (str): The name of the dog.\n",
    "        breed (str): The breed of the dog.\n",
    "    \"\"\"\n",
    "\n",
    "    def __init__(self, name: str, breed: str) -> None:\n",
    "        \"\"\"\n",
    "        Initialize the dog with a name and breed.\n",
    "\n",
    "        Args:\n",
    "            name (str): The name of the dog.\n",
    "            breed (str): The breed of the dog.\n",
    "        \"\"\"\n",
    "        self.name = name\n",
    "        self.breed = breed\n",
    "\n",
    "    def get_name(self):\n",
    "        \"\"\"Return the name of the dog.\"\"\"\n",
    "        return self.name\n",
    "\n",
    "    def get_breed(self):\n",
    "        \"\"\"Return the breed of the dog.\"\"\"\n",
    "        return self.breed\n",
    "\n",
    "    def bark(self):\n",
    "        \"\"\"Make the dog bark.\"\"\"\n",
    "        print(f\"{self.name} says: Woof!\")\n",
    "\n",
    "    def introduce(self):\n",
    "        \"\"\"\n",
    "        Print a message where the dog introduces himself.\n",
    "        \"\"\"\n",
    "        print(f\"Hi! I'm {self.name} and I'm a {self.breed}.\")\n",
    "\n",
    "# Example usage\n",
    "if __name__ == \"__main__\":\n",
    "    my_dog = Dog(name=\"Buddy\", breed=\"Golden Retriever\")\n",
    "    my_dog.introduce()\n"
   ]
  }
 ],
 "metadata": {
  "colab": {
   "provenance": []
  },
  "kernelspec": {
   "display_name": "Python 3 (ipykernel)",
   "language": "python",
   "name": "python3"
  },
  "language_info": {
   "codemirror_mode": {
    "name": "ipython",
    "version": 3
   },
   "file_extension": ".py",
   "mimetype": "text/x-python",
   "name": "python",
   "nbconvert_exporter": "python",
   "pygments_lexer": "ipython3",
   "version": "3.13.2"
  }
 },
 "nbformat": 4,
 "nbformat_minor": 4
}
